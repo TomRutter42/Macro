{
 "cells": [
  {
   "cell_type": "code",
   "execution_count": 2,
   "metadata": {},
   "outputs": [],
   "source": [
    "# Import Packages \n",
    "\n",
    "import numpy as np\n",
    "import scipy.interpolate\n",
    "import scipy.optimize as opt\n",
    "import copy as copy\n",
    "import matplotlib.pyplot as plt\n",
    "from scipy.interpolate import PchipInterpolator as pchip"
   ]
  },
  {
   "cell_type": "code",
   "execution_count": 26,
   "metadata": {},
   "outputs": [],
   "source": [
    "# Define Parameters\n",
    "\n",
    "beta = 0.8\n",
    "R = 1.02\n",
    "alpha = 1/3"
   ]
  },
  {
   "cell_type": "code",
   "execution_count": 4,
   "metadata": {},
   "outputs": [],
   "source": [
    "# Define Primitive Functions \n",
    "\n",
    "def u(c):\n",
    "    return np.log(c)\n",
    "\n",
    "def u_dash(c):\n",
    "    return 1/c\n",
    "\n",
    "def f(k):\n",
    "    return k**alpha\n",
    "\n",
    "def f_dash(k):\n",
    "    return alpha*k**(alpha-1)\n"
   ]
  },
  {
   "cell_type": "code",
   "execution_count": 28,
   "metadata": {},
   "outputs": [],
   "source": [
    "# Calculate optimal k \n",
    "\n",
    "def calculate_optimal_k(R, alpha): \n",
    "    return (R / alpha) ** (1 / (alpha - 1))\n",
    "\n",
    "k_star = calculate_optimal_k(R, alpha)"
   ]
  },
  {
   "cell_type": "code",
   "execution_count": 20,
   "metadata": {},
   "outputs": [],
   "source": [
    "# Functions to solve FOCs \n",
    "\n",
    "def threshold_FOC(w, phi, vprime):\n",
    "    target = u_dash(w - (1-phi) * k_star) - beta * R * vprime((k_star **alpha) - R * phi * k_star) \n",
    "    return target \n",
    "\n",
    "def bonds_foc(b, w, phi, v_prime): ## FOC for unconstrained agent\n",
    "    target_0 = u_dash(w - b - k_star) - beta * v_prime(f_dash(k_star) + R*b) * R\n",
    "    return target_0\n",
    "\n",
    "def capital_foc(k, w, phi, v_dash):\n",
    "    target = u_dash(w - (1 - phi) * k) * (1 - phi) - beta * v_dash(f(k) - R * phi * k) * (f_dash(k) - R * phi)\n",
    "    return target\n",
    "\n",
    "def solve_for_bonds(w, phi, v_dash, initial_guess):\n",
    "    b = opt.fsolve(bonds_foc, initial_guess, args = (w, phi, v_dash))\n",
    "    return b\n",
    "\n",
    "def solve_for_capital(w, phi, v_dash, initial_guess): \n",
    "    k = opt.fsolve(capital_foc, initial_guess, args = (w, phi, v_dash))\n",
    "    return k\n"
   ]
  },
  {
   "cell_type": "code",
   "execution_count": 21,
   "metadata": {},
   "outputs": [],
   "source": [
    "# Set up grid\n",
    "\n",
    "w_grid = np.linspace(0.01, 5, 1000)\n",
    "\n",
    "# Define initial guess for threshold value of w \n",
    "\n",
    "w_threshold = 1\n"
   ]
  },
  {
   "cell_type": "code",
   "execution_count": 24,
   "metadata": {},
   "outputs": [],
   "source": [
    "# Process of value function iteration \n",
    "\n",
    "def vfi(phi): \n",
    "\n",
    "    k_star = calculate_optimal_k(R, alpha)\n",
    "\n",
    "    # Initialize policy functions \n",
    "\n",
    "    b_policy = np.zeros(len(w_grid))\n",
    "    k_policy = np.ones(len(w_grid))\n",
    "\n",
    "    # Initialize value function\n",
    "\n",
    "    v = np.log(w_grid)\n",
    "\n",
    "    # Form a loop to iterate until we are below a specified tolerance\n",
    "\n",
    "    tol = 1e-6\n",
    "\n",
    "    error = 1\n",
    "\n",
    "    while error > tol:\n",
    "\n",
    "        # Form a cubic spline approximation to the value function \n",
    "\n",
    "        v_approx = pchip(w_grid, v)\n",
    "\n",
    "        # Calculate derivative of v_approx\n",
    "\n",
    "        v_approx_dash = v_approx.derivative(1)\n",
    "\n",
    "        # Given v_approx_dash, calculate threshold value of w: \n",
    "\n",
    "        w_threshold = opt.fsolve(threshold_FOC, 1, args = (phi, v_approx_dash))\n",
    "\n",
    "        k_guess = 0.01 \n",
    "        b_guess = 0.01\n",
    "\n",
    "        v_new = np.zeros(len(w_grid))\n",
    "\n",
    "        for i in range(len(w_grid)):\n",
    "\n",
    "            # Calculate policy functions for w < w_threshold, which corresponds to the constrained agent\n",
    "\n",
    "            if w_grid[i] < w_threshold: \n",
    "\n",
    "                k_policy[i] = solve_for_capital(w_grid[i], phi, v_approx_dash, k_guess)\n",
    "                b_policy[i] = - phi * k_policy[i]\n",
    "\n",
    "                v_new[i] = u(w_grid[i] - (1 - phi) * k_policy[i]) + beta * v_approx(f(k_policy[i]) - R * phi * k_policy[i])\n",
    "\n",
    "            else: \n",
    "\n",
    "                # Calculate policy functions for w >= w_threshold, which corresponds to the unconstrained agent\n",
    "\n",
    "                b_policy[i] = solve_for_bonds(w_grid[i], phi, v_approx_dash, b_guess)\n",
    "                k_policy[i] = k_star\n",
    "\n",
    "                v_new[i] = u(w_grid[i] - b_policy[i] - k_star) + beta * v_approx(f_dash(k_star) + R * b_policy[i])\n",
    "\n",
    "            # Update guess for k and b\n",
    "\n",
    "            k_guess = k_policy[i]\n",
    "            b_guess = b_policy[i]\n",
    "\n",
    "            error = np.max(np.abs(v_new - v))\n",
    "\n",
    "            v = copy.deepcopy(v_new)\n",
    "\n",
    "    return v, b_policy, k_policy, w_threshold\n",
    "        "
   ]
  },
  {
   "cell_type": "code",
   "execution_count": 33,
   "metadata": {},
   "outputs": [
    {
     "name": "stderr",
     "output_type": "stream",
     "text": [
      "C:\\Users\\tomru\\AppData\\Local\\Temp\\ipykernel_21260\\4161084352.py:4: RuntimeWarning: invalid value encountered in log\n",
      "  return np.log(c)\n"
     ]
    }
   ],
   "source": [
    "v, b_policy, k_policy, w_thrshold = vfi(0.8)"
   ]
  },
  {
   "cell_type": "code",
   "execution_count": 34,
   "metadata": {},
   "outputs": [
    {
     "data": {
      "text/plain": [
       "[<matplotlib.lines.Line2D at 0x1c7a037ba60>]"
      ]
     },
     "execution_count": 34,
     "metadata": {},
     "output_type": "execute_result"
    },
    {
     "data": {
      "image/png": "[encoded data removed]",
      "text/plain": [
       "<Figure size 640x480 with 1 Axes>"
      ]
     },
     "metadata": {},
     "output_type": "display_data"
    }
   ],
   "source": [
    "# Plot value function\n",
    "\n",
    "plt.plot(w_grid, v)\n",
    "plot(v)"
   ]
  }
 ],
 "metadata": {
  "kernelspec": {
   "display_name": "Python 3.10.8 64-bit (microsoft store)",
   "language": "python",
   "name": "python3"
  },
  "language_info": {
   "codemirror_mode": {
    "name": "ipython",
    "version": 3
   },
   "file_extension": ".py",
   "mimetype": "text/x-python",
   "name": "python",
   "nbconvert_exporter": "python",
   "pygments_lexer": "ipython3",
   "version": "3.10.8"
  },
  "orig_nbformat": 4,
  "vscode": {
   "interpreter": {
    "hash": "1c71180cf76bf5ecffbb6868b441d2e29356a0e1179d626d5d713a2dd345f63b"
   }
  }
 },
 "nbformat": 4,
 "nbformat_minor": 2
}
