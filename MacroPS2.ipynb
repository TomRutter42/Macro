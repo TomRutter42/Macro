{
 "cells": [
  {
   "cell_type": "code",
   "execution_count": 112,
   "metadata": {},
   "outputs": [],
   "source": [
    "import numpy as np\n",
    "import matplotlib.pyplot as plt\n",
    "from numba import jit"
   ]
  },
  {
   "cell_type": "code",
   "execution_count": 137,
   "metadata": {},
   "outputs": [],
   "source": [
    "# define parameters\n",
    "beta = 0.98\n",
    "R = 1 / beta\n",
    "sigma = 0.5\n",
    "T = 80"
   ]
  },
  {
   "cell_type": "code",
   "execution_count": 157,
   "metadata": {},
   "outputs": [],
   "source": [
    "# define grid A\n",
    "b_max = 100\n",
    "# b_grid = np.linspace(0, b_max, num = b_max * 10 + 1)\n",
    "b_grid = np.linspace(0, b_max, num = 1000)"
   ]
  },
  {
   "cell_type": "code",
   "execution_count": 153,
   "metadata": {},
   "outputs": [],
   "source": [
    "# Define income process\n",
    "y = np.zeros((T+1,1))\n",
    "for t in range(0, 45):\n",
    "    y[t] = (-3 + 0.25 * (t + 20) - 0.0025 * (t + 20) ** 2)"
   ]
  },
  {
   "cell_type": "code",
   "execution_count": 158,
   "metadata": {},
   "outputs": [],
   "source": [
    "\n",
    "@jit(nopython=True)\n",
    "\n",
    "# define utility function, this is the flow utility accruing to consumption\n",
    "def util(c):\n",
    "    return (c ** (1 - (1 / sigma))) / (1 - (1 / sigma))\n",
    "\n",
    "# Calculate consumption given current bonds, income, and future choice of bonds. \n",
    "def cons(b, y, b_prime): \n",
    "    return y + b - (R ** (-1)) * b_prime\n",
    "\n",
    "# In the final period, the individual consumes their bonds and income, \n",
    "# hence we can calculate the value function directly.\n",
    "## Initialize V\n",
    "V = np.zeros((T, len(b_grid)))\n",
    "V[T-1, :] = util(y[T-1] + b_grid)\n",
    "# Similarly, we can also express consumption directly. \n",
    "## Initialize C\n",
    "C = np.zeros((T, len(b_grid)))\n",
    "C[T-1, :] = y[T-1] + b_grid\n",
    "# Similarly, and final period choice of bonds. \n",
    "## Initialize B\n",
    "B = np.zeros((T, len(b_grid)))\n",
    "B[T-1, :] = 0\n",
    "\n",
    "# Note that V and C are matrices. Each row corresponds to a period,\n",
    "# and each column corresponds to a fixed value of b.\n",
    "\n",
    "# Define an objective function, which is the sum of utility \n",
    "# from consumption and the discounted value of V in the next period.\n",
    "# We prevent negative consumpption. \n",
    "def TwoPeriodUtility(b, b_prime, t):\n",
    "\n",
    "    # Calculate flow utility given b and b_prime\n",
    "    c = cons(b, y[t], b_prime)\n",
    "    u = util(c)\n",
    "    # Calculate the value of V in the next period\n",
    "    ## First, find the index of b_prime in the grid\n",
    "    i = np.where(b_grid == b_prime)[0][0]\n",
    "    ## Then, use the index to find the value of V in the next period\n",
    "    continuation = V[t+1, i]\n",
    "    ## rule out negative consumption\n",
    "    negative_consumption_flag = (y[t] + b - (R ** (-1)) * b_prime) < 0\n",
    "    negative_consumption_value = -9e10 * negative_consumption_flag\n",
    "    ## return value\n",
    "    return u + beta * continuation + negative_consumption_value\n",
    "\n",
    "# Induct backwards from period T-2 to 0. \n",
    "# In each period t, we find the optimal choice of b_prime for each b.\n",
    "# We then use this to calculate the value of V in period t.\n",
    "for t in range(T-2, -1, -1):\n",
    "    for i, b in enumerate(b_grid):\n",
    "        # Find the optimal choice of b_prime for each b\n",
    "        b_prime_opt = b_grid[np.argmax([TwoPeriodUtility(b, b_prime, t) for b_prime in b_grid])]\n",
    "        # Find the value of V for each b\n",
    "        V[t, i] = TwoPeriodUtility(b, b_prime_opt, t)\n",
    "        # Find the value of C for each b\n",
    "        C[t, i] = cons(b, y[t], b_prime_opt)\n",
    "        # Find the value of B for each b\n",
    "        B[t, i] = b_prime_opt\n",
    "\n",
    "# Find the optimal path of bond holdings, starting with bonds b0\n",
    "b0 = 0\n",
    "b_opt = np.zeros((T, 1))\n",
    "b_opt[0] = b0\n",
    "for t in range(1, T):\n",
    "    i = np.where(b_grid == b_opt[t-1])[0][0]\n",
    "    b_opt[t] = B[t-1, i]\n",
    "\n",
    "# Plot the optimal path of bond holdings\n",
    "plt.plot(b_opt)\n",
    "plt.show()\n",
    "\n",
    "\n",
    "# Find the optimal path of consumption, starting with bonds b0\n",
    "c_opt = np.zeros((T, 1))\n",
    "c_opt[0] = cons(b0, y[0], b_opt[0])\n",
    "for t in range(1, T):\n",
    "    i = np.where(b_grid == b_opt[t-1])[0][0]\n",
    "    c_opt[t] = C[t-1, i]\n",
    "\n",
    "# Plot the optimal path of consumption\n",
    "plt.plot(c_opt)\n",
    "plt.show()\n",
    "\n",
    "# Plot the path of income \n",
    "plt.plot(y)\n",
    "plt.show()\n",
    "\n",
    "# Plot the path of consumption, the path of bond holdings, \n",
    "# and the path of income all on the same graph. \n",
    "plt.plot(c_opt, label = 'Consumption')\n",
    "plt.plot(b_opt, label = 'Bonds')\n",
    "plt.plot(y, label = 'Income')\n",
    "plt.legend()\n",
    "plt.show()"
   ]
  }
 ],
 "metadata": {
  "kernelspec": {
   "display_name": "Python 3.10.8 64-bit (microsoft store)",
   "language": "python",
   "name": "python3"
  },
  "language_info": {
   "codemirror_mode": {
    "name": "ipython",
    "version": 3
   },
   "file_extension": ".py",
   "mimetype": "text/x-python",
   "name": "python",
   "nbconvert_exporter": "python",
   "pygments_lexer": "ipython3",
   "version": "3.10.8"
  },
  "orig_nbformat": 4,
  "vscode": {
   "interpreter": {
    "hash": "1c71180cf76bf5ecffbb6868b441d2e29356a0e1179d626d5d713a2dd345f63b"
   }
  }
 },
 "nbformat": 4,
 "nbformat_minor": 2
}
